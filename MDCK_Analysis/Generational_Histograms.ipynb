{
 "cells": [
  {
   "cell_type": "code",
   "execution_count": 1,
   "metadata": {},
   "outputs": [],
   "source": [
    "# TODO: Plot histograms of the generations of 'true divider' cells"
   ]
  },
  {
   "cell_type": "code",
   "execution_count": 5,
   "metadata": {},
   "outputs": [],
   "source": [
    "# [cell_ID (int), pos (str), date (str), cell_type (str), fate (int),\n",
    "#  frm_st (int), frm_en (int), cct[min] (float), cct[hrs] (float),\n",
    "#  gen (int), root (int), parent (int), child_1 (int), child_2 (int)]\n",
    "\n",
    "import matplotlib.pyplot as plt\n",
    "import numpy as np"
   ]
  },
  {
   "cell_type": "code",
   "execution_count": 6,
   "metadata": {},
   "outputs": [],
   "source": [
    "txt_file = \"/Volumes/lowegrp/Data/Kristina/Cells_MDCK/overall_analysis/cellIDdetails_MDCK_merged.txt\""
   ]
  },
  {
   "cell_type": "code",
   "execution_count": 10,
   "metadata": {},
   "outputs": [],
   "source": [
    "# Plot the histogram for all cells across generations 1-5:\n",
    "\n",
    "cct = [[] for _ in range(10)]\n",
    "\n",
    "for line in open(txt_file, 'r'):\n",
    "    line = line.rstrip().split(\"\\t\")\n",
    "    #if float(line[8]) < 5.0:\n",
    "    #   continue\n",
    "    cct[int(line[9])].append(float(line[8]))\n"
   ]
  },
  {
   "cell_type": "code",
   "execution_count": 12,
   "metadata": {},
   "outputs": [
    {
     "data": {
      "image/png": "[encoded data removed]",
      "text/plain": [
       "<Figure size 432x288 with 1 Axes>"
      ]
     },
     "metadata": {
      "needs_background": "light"
     },
     "output_type": "display_data"
    }
   ],
   "source": [
    "colors = [\"dodgerblue\", \"orange\", \"forestgreen\", \"firebrick\", \"purple\"]\n",
    "for enum, gen in enumerate(cct[1:6]):\n",
    "    plt.hist(x=gen, bins=80, range=(5.0, 45.0), color=colors[enum], alpha=0.5, label=\"Gen #{}\".format(enum + 1))\n",
    "    plt.axvline(x=np.mean(gen), ls='dashed', color=colors[enum])\n",
    "    \n",
    "plt.legend(loc=\"best\")\n",
    "plt.show()\n",
    "plt.close()"
   ]
  },
  {
   "cell_type": "code",
   "execution_count": null,
   "metadata": {},
   "outputs": [],
   "source": [
    "# Plot the histogram for cells in generation 4 reversibly up to generation 1:\n",
    "\n",
    "cell = []\n",
    "cct = []\n",
    "parent = []\n",
    "root = []\n",
    "\n",
    "\n",
    "for line in open(txt_file, 'r'):\n",
    "    line = line.rstrip().split(\"\\t\")\n",
    "    if int(line[9]) == 4:\n",
    "        cell.append(int(line[0]))\n",
    "        cct.append(float(line[8]))\n",
    "        parent.append(int(line[11]))\n",
    "        root.append([int(line[10]), line[1], line[2]])\n",
    "\n",
    "print (cell[0])\n",
    "print (cct[0])\n",
    "print (parent[0])\n",
    "print (root[0])"
   ]
  },
  {
   "cell_type": "code",
   "execution_count": null,
   "metadata": {},
   "outputs": [],
   "source": [
    "hdf5_file = \"/Volumes/lowegrp/Data/Kristina/Cells_MDCK/{}/{}/HDF/segmented.hdf5\".format(date, pos)\n",
    "\n",
    "with open(hdf5_file, 'r') as f:\n",
    "    coords = f[\"objects\"][\"obj_type_1\"][\"coords\"]\n",
    "    tracks = f[\"tracks\"][\"obj_type_1\"][\"map\"]\n",
    "\n",
    "if f.__bool__:\n",
    "    f.close()\n",
    "\n",
    "# TODO: "
   ]
  }
 ],
 "metadata": {
  "kernelspec": {
   "display_name": "Python 3",
   "language": "python",
   "name": "python3"
  },
  "language_info": {
   "codemirror_mode": {
    "name": "ipython",
    "version": 3
   },
   "file_extension": ".py",
   "mimetype": "text/x-python",
   "name": "python",
   "nbconvert_exporter": "python",
   "pygments_lexer": "ipython3",
   "version": "3.7.4"
  }
 },
 "nbformat": 4,
 "nbformat_minor": 2
}
